{
 "cells": [
  {
   "cell_type": "code",
   "execution_count": 1,
   "metadata": {},
   "outputs": [],
   "source": [
    "class Job():\n",
    "    '''\n",
    "    This class aims to represent jobs that are to be assigned to nodes\n",
    "    The basic characteristics of nodes jobs are CPU request,\n",
    "    memory request and file size to send to the master. These numbers represent the max,\n",
    "    resoruces the job will use from the node\n",
    "    '''\n",
    "    \n",
    "    def __init__(self, id_job, cpu_request, memory_request, file_size):\n",
    "        self.id_job = id_job\n",
    "        self.cpu_request = cpu_request\n",
    "        self.memory_request = memory_request\n",
    "        self.file_size = file_size\n",
    "    \n",
    "    def set_cpu_request(self, cpu_request):\n",
    "        ''' This method sets the CPU request of the job'''\n",
    "        self.cpu_request = cpu_request\n",
    "        \n",
    "    def set_memory_request(self, memory_request):\n",
    "        ''' This method sets the memory request of the job'''\n",
    "        self.memory_request = memory_request\n",
    "        \n",
    "    def set_file_size(self, file_size):\n",
    "        ''' \n",
    "        This method sets the file size of the job\n",
    "        For now the file_size is represented as standard integer units.\n",
    "        More info in bw method of class Node()\n",
    "        '''\n",
    "        self.file_size = file_size\n",
    "    \n",
    "    def get_id_job(self):\n",
    "        '''This method returns the id of the job'''\n",
    "        return self.id_job\n",
    "        \n",
    "    def get_cpu_request(self):\n",
    "        ''' This method returns CPU request of the job'''\n",
    "        return self.cpu_request\n",
    "    \n",
    "    def get_memory_request(self):\n",
    "        ''' This method returns the memory request'''\n",
    "        return self.memory_request\n",
    "    \n",
    "    def get_file_size(self):\n",
    "        ''' This method returns the file size'''\n",
    "        return self.file_size"
   ]
  },
  {
   "cell_type": "code",
   "execution_count": 2,
   "metadata": {},
   "outputs": [],
   "source": [
    "class Node():\n",
    "    '''\n",
    "    This class aims to represente computing nodes of a cluster\n",
    "    The basic properties of the nodes are CPU, memory and bandwidth (BW)\n",
    "    BW is considered the capacity of data transmision between the node and an hypothetic node where data is sent\n",
    "    '''\n",
    "    \n",
    "    def __init__(self, cpu_capacity, memory_capacity, bw):\n",
    "        self.cpu_capacity = cpu_capacity\n",
    "        self.memory_capacity = memory_capacity\n",
    "        self.bw = bw\n",
    "        self.cpu_available = cpu_capacity\n",
    "        self.memory_available = memory_capacity\n",
    "        self.cpu_used = 0\n",
    "        self.memory_used = 0\n",
    "        self.jobs = []\n",
    "        \n",
    "    def set_cpu_capacity(self, cpu_capacity):\n",
    "        '''\n",
    "        This method sets the total CPU capacity of the node\n",
    "        The CPU units are in milicores: 1000m = 1core\n",
    "        Whenever this method is call the available CPU gets to 100%. The jobs are released\n",
    "        '''\n",
    "        if cpu_capacity - self.cpu_used < 0:\n",
    "            print('CPU resources cannot be reduced')\n",
    "        else:\n",
    "            self.cpu_capacity = cpu_capacity\n",
    "            self.update_available_resources()\n",
    "    \n",
    "    def set_memory_capacity(self, memory_capacity):\n",
    "        '''\n",
    "        This method sets the total memory capacity of the node\n",
    "        The memory units are MB: 1GB = 1000MB = 1000000KB\n",
    "        Whenever this method is call the available CPU gets to 100%. The jobs are released\n",
    "        '''\n",
    "        if memory_capacity - self.memory_used < 0:\n",
    "            print('Memory resources cannot be reduced')\n",
    "        else:\n",
    "            self.memory_capacity = memory_capacity\n",
    "            self.update_available_resources()\n",
    "        \n",
    "    def set_bw(self, bw):\n",
    "        '''\n",
    "        This method sets the total bw capacity of the link b\n",
    "        For now the bandwidth is represented as the number of file_size units\n",
    "        the node is capable to consume in one time step\n",
    "        '''\n",
    "        self.bw = bw\n",
    "        \n",
    "    def get_cpu_capacity(self):\n",
    "        '''This method returns the cpu capacity of the node'''\n",
    "        return self.cpu_capacity\n",
    "    \n",
    "    def get_memory_capacity(self):\n",
    "        '''This method returns the memory capcity of the node'''\n",
    "        return self.memory_capacity\n",
    "    \n",
    "    def get_bw(self):\n",
    "        '''This method returns the bw'''\n",
    "        return self.bw\n",
    "    \n",
    "    def get_cpu_used(self):\n",
    "        '''This method returns the used CPU'''\n",
    "        return self.cpu_used\n",
    "        \n",
    "    def get_memory_used(self):\n",
    "        '''This method returns the used memory'''\n",
    "        return self.memory_used\n",
    "    \n",
    "    def get_cpu_available(self):\n",
    "        '''This method returns the available CPU'''\n",
    "        return self.cpu_available\n",
    "    \n",
    "    def get_memory_available(self):\n",
    "        '''This method returns the available memory'''\n",
    "        return self.memory_available\n",
    "    \n",
    "    def update_available_resources(self):\n",
    "        '''This method updates the available resources'''\n",
    "        self.cpu_available = self.cpu_capacity - self.cpu_used\n",
    "        self.memory_available = self.memory_capacity - self.memory_used\n",
    "        \n",
    "    def consume_resources(self, job):\n",
    "        '''\n",
    "        This method decreases the available cpu and memory\n",
    "        based on the appended job CPU and memory requests.\n",
    "        '''\n",
    "        self.cpu_used += job.get_cpu_request()\n",
    "        self.memory_used += job.get_memory_request()\n",
    "        self.update_available_resources()\n",
    "        \n",
    "    def release_resources(self, job):\n",
    "        ''' \n",
    "        This method calculates and returns the file transfer time\n",
    "        given the file size and the bw of the node\n",
    "        '''\n",
    "        self.cpu_used -= job.get_cpu_request()\n",
    "        self.memory_used -= job.get_memory_request()\n",
    "        self.update_available_resources()\n",
    "        \n",
    "    def transfer_duration(self, job):\n",
    "        ''' \n",
    "        This method calculates and returns the file transfer time\n",
    "        given the file size and the bw of the node\n",
    "        '''\n",
    "        total_transfer_duration = job.get_file_size() / self.bw\n",
    "        return total_transfer_duration\n",
    "    \n",
    "    def check_resources(self, job):\n",
    "        '''\n",
    "        This method returns a False if the node has not enough available resources to allocate the job.\n",
    "        Returns True otherwise\n",
    "        '''\n",
    "        cpu_resources = job.get_cpu_request() > self.get_cpu_available()\n",
    "        memory_resources = job.get_memory_request() > self.get_memory_available()\n",
    "        \n",
    "        if cpu_resources or memory_resources:\n",
    "            return False\n",
    "        else:\n",
    "            return True\n",
    "            \n",
    "    def append_job(self, job):\n",
    "        '''\n",
    "        This method appends the job passed as an argument to the node.\n",
    "        The available resources in the node are updated.\n",
    "        The transfer time of the file attached to job is calculated and returned\n",
    "        '''\n",
    "        if self.check_resources(job):\n",
    "            self.jobs.append(job)\n",
    "            self.consume_resources(job)\n",
    "            total_transfer_duration = self.transfer_duration(job)\n",
    "            return total_transfer_duration\n",
    "        \n",
    "        else:\n",
    "            print('The job cannot be allocated. There is not enough available resoruces in the node.')\n",
    "    \n",
    "    def terminate_job(self, job):\n",
    "        '''\n",
    "        This method releases the specified job running in the node\n",
    "        The available resources in the node are updated\n",
    "        '''\n",
    "        self.jobs.remove(job)\n",
    "        self.release_resources(job)\n",
    "        "
   ]
  },
  {
   "cell_type": "markdown",
   "metadata": {},
   "source": [
    "## First experiment\n",
    "\n",
    "In this first experiment the goal is to check that both classes work properly and can interact between them. The main components will be:\n",
    "\n",
    "1. Two nodes: Each node will have different charactersitics\n",
    "\n",
    "    * Node's CPU\n",
    "    * Node's memory\n",
    "    * Node's BW\n",
    "\n",
    "2. Two types of jobs: Each type will have different characteristics\n",
    "\n",
    "    * Jobs CPU\n",
    "    * Jobs memory\n",
    "    * jobs file_size\n",
    "* jobs will be created and appended in each of the nodes dynamically at different time steps\n",
    "* Number of jobs created at each time step\n",
    "* jobs that do not have space will wait in a buffer\n",
    "* Maximum jobs in the buffer\n",
    "\n",
    "This process will last for a certain number of timesteps. Data of the deplyment will be stored for later visualization and tracking of the performance.\n"
   ]
  },
  {
   "cell_type": "markdown",
   "metadata": {},
   "source": [
    "## Tests"
   ]
  },
  {
   "cell_type": "code",
   "execution_count": 72,
   "metadata": {},
   "outputs": [],
   "source": [
    "node_1 = Node(cpu_capacity=2, memory_capacity=1000, bw=20)\n",
    "job_1 = Job(cpu_request=0.5, memory_request=750, file_size=800)\n",
    "job_2 = Job(cpu_request=1.5, memory_request=100, file_size=1300)"
   ]
  },
  {
   "cell_type": "code",
   "execution_count": 73,
   "metadata": {},
   "outputs": [],
   "source": [
    "job_2 = Job(cpu_request=1.5, memory_request=100, file_size=1300)"
   ]
  },
  {
   "cell_type": "code",
   "execution_count": 60,
   "metadata": {},
   "outputs": [
    {
     "name": "stdout",
     "output_type": "stream",
     "text": [
      "40.0\n",
      "The job cannot be allocated. There is not enough available resoruces in the node.\n"
     ]
    }
   ],
   "source": [
    "print(node_1.append_job(job_1))\n",
    "node_1.append_job(job_2)"
   ]
  },
  {
   "cell_type": "code",
   "execution_count": 61,
   "metadata": {},
   "outputs": [
    {
     "name": "stdout",
     "output_type": "stream",
     "text": [
      "250\n",
      "150\n"
     ]
    }
   ],
   "source": [
    "print(node_1.get_memory_available())\n",
    "node_1.set_memory_capacity(memory_capacity=900)\n",
    "print(node_1.get_memory_available())"
   ]
  },
  {
   "cell_type": "code",
   "execution_count": 62,
   "metadata": {},
   "outputs": [
    {
     "name": "stdout",
     "output_type": "stream",
     "text": [
      "0.0\n",
      "0\n"
     ]
    }
   ],
   "source": [
    "node_1.terminate_job(job_1)\n",
    "print(node_1.get_cpu_used())\n",
    "print(node_1.get_memory_used())"
   ]
  },
  {
   "cell_type": "code",
   "execution_count": 74,
   "metadata": {},
   "outputs": [
    {
     "data": {
      "text/plain": [
       "65.0"
      ]
     },
     "execution_count": 74,
     "metadata": {},
     "output_type": "execute_result"
    }
   ],
   "source": [
    "node_1.append_job(job_2)"
   ]
  },
  {
   "cell_type": "code",
   "execution_count": 75,
   "metadata": {},
   "outputs": [
    {
     "data": {
      "text/plain": [
       "2"
      ]
     },
     "execution_count": 75,
     "metadata": {},
     "output_type": "execute_result"
    }
   ],
   "source": [
    "node_1.get_cpu_capacity()"
   ]
  },
  {
   "cell_type": "code",
   "execution_count": 76,
   "metadata": {},
   "outputs": [
    {
     "name": "stdout",
     "output_type": "stream",
     "text": [
      "0.5\n",
      "900\n"
     ]
    }
   ],
   "source": [
    "print(node_1.get_cpu_available())\n",
    "print(node_1.get_memory_available())"
   ]
  },
  {
   "cell_type": "code",
   "execution_count": 77,
   "metadata": {},
   "outputs": [
    {
     "name": "stdout",
     "output_type": "stream",
     "text": [
      "CPU resources cannot be reduced\n"
     ]
    }
   ],
   "source": [
    "node_1.set_cpu_capacity(cpu_capacity=1)"
   ]
  },
  {
   "cell_type": "code",
   "execution_count": 69,
   "metadata": {},
   "outputs": [
    {
     "data": {
      "text/plain": [
       "1.5"
      ]
     },
     "execution_count": 69,
     "metadata": {},
     "output_type": "execute_result"
    }
   ],
   "source": [
    "node_1.get_cpu_used()"
   ]
  }
 ],
 "metadata": {
  "kernelspec": {
   "display_name": "Python 3",
   "language": "python",
   "name": "python3"
  },
  "language_info": {
   "codemirror_mode": {
    "name": "ipython",
    "version": 3
   },
   "file_extension": ".py",
   "mimetype": "text/x-python",
   "name": "python",
   "nbconvert_exporter": "python",
   "pygments_lexer": "ipython3",
   "version": "3.8.1"
  }
 },
 "nbformat": 4,
 "nbformat_minor": 4
}
